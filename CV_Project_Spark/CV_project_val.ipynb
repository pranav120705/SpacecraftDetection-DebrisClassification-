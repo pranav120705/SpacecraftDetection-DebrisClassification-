{
 "cells": [
  {
   "cell_type": "code",
   "execution_count": 1,
   "id": "0005a786-1f57-4014-82f2-2744d8799102",
   "metadata": {},
   "outputs": [],
   "source": [
    "from ultralytics import YOLO\n"
   ]
  },
  {
   "cell_type": "code",
   "execution_count": 2,
   "id": "41b78f36-e2cb-4fd4-b0f4-7fa489d1a98f",
   "metadata": {},
   "outputs": [],
   "source": [
    "model = YOLO(r\"D:\\models\\New folder\\best.pt\")"
   ]
  },
  {
   "cell_type": "code",
   "execution_count": 10,
   "id": "1aa8b2c6-6ff7-4799-8892-ca1312bfd8f7",
   "metadata": {},
   "outputs": [
    {
     "name": "stdout",
     "output_type": "stream",
     "text": [
      "\n",
      "image 1/1 D:\\sparkfull\\images\\train\\img040846.jpg: 640x640 1 smart_1, 212.8ms\n",
      "Speed: 6.6ms preprocess, 212.8ms inference, 2.3ms postprocess per image at shape (1, 3, 640, 640)\n"
     ]
    }
   ],
   "source": [
    "result=model(r\"D:\\sparkfull\\images\\train\\img040846.jpg\" , imgsz=640 )"
   ]
  },
  {
   "cell_type": "code",
   "execution_count": 12,
   "id": "da91b39d-fba7-4e33-b70d-e70c99cbf296",
   "metadata": {},
   "outputs": [],
   "source": [
    "result[0].show()"
   ]
  },
  {
   "cell_type": "code",
   "execution_count": 15,
   "id": "0dcfd675-27f5-41df-928a-8db44424da45",
   "metadata": {},
   "outputs": [
    {
     "name": "stdout",
     "output_type": "stream",
     "text": [
      "Ultralytics 8.3.88  Python-3.13.2 torch-2.6.0+cu126 CUDA:0 (NVIDIA GeForce RTX 3050 Laptop GPU, 4096MiB)\n"
     ]
    },
    {
     "name": "stderr",
     "output_type": "stream",
     "text": [
      "\u001b[34m\u001b[1mval: \u001b[0mScanning D:\\spark_subset1\\labels\\val... 4400 images, 0 backgrounds, 0 corrupt: 100%|██████████| 4400/4400 [00:02<00:00, 1718.86it/s]\u001b[0m\n"
     ]
    },
    {
     "name": "stdout",
     "output_type": "stream",
     "text": [
      "\u001b[34m\u001b[1mval: \u001b[0mNew cache created: D:\\spark_subset1\\labels\\val.cache\n"
     ]
    },
    {
     "name": "stderr",
     "output_type": "stream",
     "text": [
      "                 Class     Images  Instances      Box(P          R      mAP50  mAP50-95): 100%|██████████| 275/275 [03:35<00:00,  1.28it/s]\n"
     ]
    },
    {
     "name": "stdout",
     "output_type": "stream",
     "text": [
      "                   all       4400       4400      0.937      0.901      0.953      0.812\n",
      "                cheops        400        400      0.979      0.948      0.992      0.865\n",
      "                debris        400        400      0.995      0.958      0.994      0.887\n",
      "           double_star        400        400      0.966      0.945      0.981      0.852\n",
      "earth_observation_sat_1        400        400      0.852      0.797      0.866      0.674\n",
      "       lisa_pathfinder        400        400      0.968      0.982      0.991      0.892\n",
      "               proba_2        400        400      0.971       0.91      0.986      0.878\n",
      "           proba_3_csc        400        400       0.92      0.965      0.984      0.819\n",
      "           proba_3_ocs        400        400      0.898      0.975      0.971      0.791\n",
      "               smart_1        400        400      0.854      0.877       0.91      0.777\n",
      "                  soho        400        400      0.965      0.894      0.965       0.81\n",
      "            xmm_newton        400        400      0.936       0.66      0.843      0.685\n",
      "Speed: 0.3ms preprocess, 24.5ms inference, 0.0ms loss, 1.4ms postprocess per image\n",
      "Results saved to \u001b[1mruns\\detect\\val3\u001b[0m\n"
     ]
    }
   ],
   "source": [
    "metrics = model.val(\n",
    "    data=r\"D:\\spark_subset1\\data.yaml\",  # dataset config file\n",
    "    split=\"val\",               # use validation set\n",
    "    save=True,                 # save predicted images\n",
    "    save_txt=True,             # save predictions as .txt\n",
    "    plots=True                 # generate and save all plots\n",
    ")"
   ]
  },
  {
   "cell_type": "code",
   "execution_count": 17,
   "id": "87acb1e1-3873-4636-949d-de2faae22a76",
   "metadata": {},
   "outputs": [],
   "source": [
    "import pandas as pd\n",
    "\n",
    "# Get list of class names\n",
    "class_names = metrics.names\n",
    "\n",
    "# Build the DataFrame\n",
    "df = pd.DataFrame({\n",
    "    'class_id': list(class_names.keys()),\n",
    "    'class_name': list(class_names.values()),\n",
    "    'precision': metrics.box.p.tolist(),\n",
    "    'recall': metrics.box.r.tolist(),\n",
    "    'f1': metrics.box.f1.tolist(),\n",
    "    'mAP@0.5': metrics.box.ap50.tolist(),\n",
    "    'mAP@0.5:0.95': metrics.box.ap.tolist()\n",
    "})\n",
    "\n",
    "# Optional: sort by mAP or F1\n",
    "df = df.sort_values(by='mAP@0.5', ascending=False)\n"
   ]
  },
  {
   "cell_type": "code",
   "execution_count": 18,
   "id": "87e1d313-bed5-4571-9590-fc7694c90035",
   "metadata": {},
   "outputs": [
    {
     "data": {
      "text/html": [
       "<div>\n",
       "<style scoped>\n",
       "    .dataframe tbody tr th:only-of-type {\n",
       "        vertical-align: middle;\n",
       "    }\n",
       "\n",
       "    .dataframe tbody tr th {\n",
       "        vertical-align: top;\n",
       "    }\n",
       "\n",
       "    .dataframe thead th {\n",
       "        text-align: right;\n",
       "    }\n",
       "</style>\n",
       "<table border=\"1\" class=\"dataframe\">\n",
       "  <thead>\n",
       "    <tr style=\"text-align: right;\">\n",
       "      <th></th>\n",
       "      <th>class_id</th>\n",
       "      <th>class_name</th>\n",
       "      <th>precision</th>\n",
       "      <th>recall</th>\n",
       "      <th>f1</th>\n",
       "      <th>mAP@0.5</th>\n",
       "      <th>mAP@0.5:0.95</th>\n",
       "    </tr>\n",
       "  </thead>\n",
       "  <tbody>\n",
       "    <tr>\n",
       "      <th>1</th>\n",
       "      <td>1</td>\n",
       "      <td>debris</td>\n",
       "      <td>0.994806</td>\n",
       "      <td>0.957656</td>\n",
       "      <td>0.975878</td>\n",
       "      <td>0.994047</td>\n",
       "      <td>0.886850</td>\n",
       "    </tr>\n",
       "    <tr>\n",
       "      <th>0</th>\n",
       "      <td>0</td>\n",
       "      <td>cheops</td>\n",
       "      <td>0.979265</td>\n",
       "      <td>0.947500</td>\n",
       "      <td>0.963121</td>\n",
       "      <td>0.992359</td>\n",
       "      <td>0.864615</td>\n",
       "    </tr>\n",
       "    <tr>\n",
       "      <th>4</th>\n",
       "      <td>4</td>\n",
       "      <td>lisa_pathfinder</td>\n",
       "      <td>0.967963</td>\n",
       "      <td>0.981958</td>\n",
       "      <td>0.974910</td>\n",
       "      <td>0.990716</td>\n",
       "      <td>0.892436</td>\n",
       "    </tr>\n",
       "    <tr>\n",
       "      <th>5</th>\n",
       "      <td>5</td>\n",
       "      <td>proba_2</td>\n",
       "      <td>0.970674</td>\n",
       "      <td>0.910241</td>\n",
       "      <td>0.939487</td>\n",
       "      <td>0.986407</td>\n",
       "      <td>0.878041</td>\n",
       "    </tr>\n",
       "    <tr>\n",
       "      <th>6</th>\n",
       "      <td>6</td>\n",
       "      <td>proba_3_csc</td>\n",
       "      <td>0.919994</td>\n",
       "      <td>0.965000</td>\n",
       "      <td>0.941960</td>\n",
       "      <td>0.984145</td>\n",
       "      <td>0.819333</td>\n",
       "    </tr>\n",
       "    <tr>\n",
       "      <th>2</th>\n",
       "      <td>2</td>\n",
       "      <td>double_star</td>\n",
       "      <td>0.966019</td>\n",
       "      <td>0.945000</td>\n",
       "      <td>0.955394</td>\n",
       "      <td>0.981239</td>\n",
       "      <td>0.851684</td>\n",
       "    </tr>\n",
       "    <tr>\n",
       "      <th>7</th>\n",
       "      <td>7</td>\n",
       "      <td>proba_3_ocs</td>\n",
       "      <td>0.898136</td>\n",
       "      <td>0.975000</td>\n",
       "      <td>0.934991</td>\n",
       "      <td>0.971050</td>\n",
       "      <td>0.791406</td>\n",
       "    </tr>\n",
       "    <tr>\n",
       "      <th>9</th>\n",
       "      <td>9</td>\n",
       "      <td>soho</td>\n",
       "      <td>0.964907</td>\n",
       "      <td>0.893608</td>\n",
       "      <td>0.927890</td>\n",
       "      <td>0.965139</td>\n",
       "      <td>0.810363</td>\n",
       "    </tr>\n",
       "    <tr>\n",
       "      <th>8</th>\n",
       "      <td>8</td>\n",
       "      <td>smart_1</td>\n",
       "      <td>0.854014</td>\n",
       "      <td>0.877496</td>\n",
       "      <td>0.865596</td>\n",
       "      <td>0.909955</td>\n",
       "      <td>0.776586</td>\n",
       "    </tr>\n",
       "    <tr>\n",
       "      <th>3</th>\n",
       "      <td>3</td>\n",
       "      <td>earth_observation_sat_1</td>\n",
       "      <td>0.851690</td>\n",
       "      <td>0.797500</td>\n",
       "      <td>0.823705</td>\n",
       "      <td>0.865827</td>\n",
       "      <td>0.673522</td>\n",
       "    </tr>\n",
       "    <tr>\n",
       "      <th>10</th>\n",
       "      <td>10</td>\n",
       "      <td>xmm_newton</td>\n",
       "      <td>0.936142</td>\n",
       "      <td>0.659688</td>\n",
       "      <td>0.773969</td>\n",
       "      <td>0.842699</td>\n",
       "      <td>0.685254</td>\n",
       "    </tr>\n",
       "  </tbody>\n",
       "</table>\n",
       "</div>"
      ],
      "text/plain": [
       "    class_id               class_name  precision    recall        f1  \\\n",
       "1          1                   debris   0.994806  0.957656  0.975878   \n",
       "0          0                   cheops   0.979265  0.947500  0.963121   \n",
       "4          4          lisa_pathfinder   0.967963  0.981958  0.974910   \n",
       "5          5                  proba_2   0.970674  0.910241  0.939487   \n",
       "6          6              proba_3_csc   0.919994  0.965000  0.941960   \n",
       "2          2              double_star   0.966019  0.945000  0.955394   \n",
       "7          7              proba_3_ocs   0.898136  0.975000  0.934991   \n",
       "9          9                     soho   0.964907  0.893608  0.927890   \n",
       "8          8                  smart_1   0.854014  0.877496  0.865596   \n",
       "3          3  earth_observation_sat_1   0.851690  0.797500  0.823705   \n",
       "10        10               xmm_newton   0.936142  0.659688  0.773969   \n",
       "\n",
       "     mAP@0.5  mAP@0.5:0.95  \n",
       "1   0.994047      0.886850  \n",
       "0   0.992359      0.864615  \n",
       "4   0.990716      0.892436  \n",
       "5   0.986407      0.878041  \n",
       "6   0.984145      0.819333  \n",
       "2   0.981239      0.851684  \n",
       "7   0.971050      0.791406  \n",
       "9   0.965139      0.810363  \n",
       "8   0.909955      0.776586  \n",
       "3   0.865827      0.673522  \n",
       "10  0.842699      0.685254  "
      ]
     },
     "execution_count": 18,
     "metadata": {},
     "output_type": "execute_result"
    }
   ],
   "source": [
    "df"
   ]
  },
  {
   "cell_type": "code",
   "execution_count": 19,
   "id": "b16c8598-c324-4809-a008-5a11a1e2d9ce",
   "metadata": {},
   "outputs": [
    {
     "name": "stdout",
     "output_type": "stream",
     "text": [
      "📊 Overall Metrics:\n",
      "Precision: 0.9366918588449852\n",
      "Recall: 0.9009679466943417\n",
      "mAP@0.5: 0.9530529758523708\n",
      "mAP@0.5:0.95: 0.8118263761938112\n"
     ]
    }
   ],
   "source": [
    "print(\"📊 Overall Metrics:\")\n",
    "print(\"Precision:\", metrics.box.mp)\n",
    "print(\"Recall:\", metrics.box.mr)\n",
    "print(\"mAP@0.5:\", metrics.box.map50)\n",
    "print(\"mAP@0.5:0.95:\", metrics.box.map)\n"
   ]
  },
  {
   "cell_type": "code",
   "execution_count": null,
   "id": "a3761522-fdf1-4094-81ac-a70794ba70e6",
   "metadata": {},
   "outputs": [],
   "source": []
  }
 ],
 "metadata": {
  "kernelspec": {
   "display_name": "Python 3 (ipykernel)",
   "language": "python",
   "name": "python3"
  },
  "language_info": {
   "codemirror_mode": {
    "name": "ipython",
    "version": 3
   },
   "file_extension": ".py",
   "mimetype": "text/x-python",
   "name": "python",
   "nbconvert_exporter": "python",
   "pygments_lexer": "ipython3",
   "version": "3.13.2"
  }
 },
 "nbformat": 4,
 "nbformat_minor": 5
}
